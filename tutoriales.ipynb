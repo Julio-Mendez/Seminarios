{
 "cells": [
  {
   "cell_type": "code",
   "execution_count": null,
   "metadata": {},
   "outputs": [],
   "source": [
    "import numpy as np\n",
    "import matplotlib.pyplot as plt\n",
    "import sympy"
   ]
  },
  {
   "cell_type": "code",
   "execution_count": null,
   "metadata": {},
   "outputs": [],
   "source": [
    "def CalcularGrafiente():\n",
    "    x = sympy.Symbol(\"x\")\n",
    "    funcion = x**3 + 4 * x**2 + 6 * x - 12\n",
    "    grad_1 = sympy.diff(funcion)\n",
    "    grad_2 = sympy.diff(grad_1)\n",
    "    return [grad_1, grad_2]"
   ]
  },
  {
   "cell_type": "code",
   "execution_count": null,
   "metadata": {},
   "outputs": [],
   "source": [
    "primera, segunda = CalcularGrafiente()\n",
    "print(primera)\n",
    "print(segunda)"
   ]
  },
  {
   "attachments": {},
   "cell_type": "markdown",
   "metadata": {},
   "source": [
    "* https://www.youtube.com/watch?v=m3vd3vi6a_s\n",
    "* Gradiente Descendente"
   ]
  },
  {
   "cell_type": "code",
   "execution_count": null,
   "metadata": {},
   "outputs": [],
   "source": [
    "# Ejemplo del gradiente descendente aplicado a la función y = x^2 + 1\n",
    "# La ecuación matemática para el gradiente (derivada) es = 2*x\n",
    "\n",
    "x_inicial = np.random.randint(10)\n",
    "alpha = 0.1\n",
    "n_iteraciones = 15\n",
    "\n",
    "iteraciones = []\n",
    "y = []\n",
    "\n",
    "x = x_inicial\n",
    "for i in range(n_iteraciones):\n",
    "    print(\"------------------------\")\n",
    "    print(\"iteración \", str(i + 1))\n",
    "    # Calcular gradiente\n",
    "    gradiente = 6 * x + 8\n",
    "    # Actualizar \"x\" usando gradiente descendente\n",
    "    x = x - alpha * gradiente\n",
    "    # Almacenar iteración y valor correspondiente\n",
    "    y.append(3 * x**2 + 8 * x + 6)\n",
    "    iteraciones.append(i + 1)\n",
    "    # Imprimir iteraciones\n",
    "    print(\"x = \", str(x), \", y = \", str(3 * x**2 + 8 * x + 6))\n",
    "\n",
    "plt.subplot(1, 2, 1)\n",
    "plt.plot(iteraciones, y)\n",
    "plt.xlabel(\"Iteración\")\n",
    "plt.ylabel(\"y\")\n",
    "plt.grid()\n",
    "X = np.linspace(-15, 15, 100)\n",
    "Y = 3 * X**2 + 8 * X + 6\n",
    "plt.subplot(1, 2, 2)\n",
    "plt.plot(X, Y, x, y[-1], \"ro\")\n",
    "plt.xlabel(\"x\")\n",
    "plt.ylabel(\"y\")\n",
    "plt.grid()\n",
    "plt.show()"
   ]
  },
  {
   "cell_type": "code",
   "execution_count": null,
   "metadata": {},
   "outputs": [],
   "source": []
  }
 ],
 "metadata": {
  "kernelspec": {
   "display_name": "Optimizar_ENV",
   "language": "python",
   "name": "python3"
  },
  "language_info": {
   "codemirror_mode": {
    "name": "ipython",
    "version": 3
   },
   "file_extension": ".py",
   "mimetype": "text/x-python",
   "name": "python",
   "nbconvert_exporter": "python",
   "pygments_lexer": "ipython3",
   "version": "3.10.6"
  },
  "orig_nbformat": 4
 },
 "nbformat": 4,
 "nbformat_minor": 2
}
